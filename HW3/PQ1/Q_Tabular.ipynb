{
 "cells": [
  {
   "attachments": {},
   "cell_type": "markdown",
   "metadata": {},
   "source": [
    "<img src='http://www-scf.usc.edu/~ghasemig/images/sharif.png' alt=\"SUT logo\" width=300 height=300 align=left class=\"saturate\" >\n",
    "\n",
    "<br>\n",
    "<font>\n",
    "<div dir=ltr align=center>\n",
    "<font color=0F5298 size=7>\n",
    "    Artificial Intelligence <br>\n",
    "<font color=2565AE size=5>\n",
    "    Computer Engineering Department <br>\n",
    "    Spring 2023<br>\n",
    "<font color=3C99D size=5>\n",
    "    Practical Assignment 3 - Reinforcement Learning <br>\n",
    "<font color=696880 size=4>\n",
    "    Mohammad Moshtaghi - Ali Salesi - Hossein Goli\n",
    "\n",
    "____"
   ]
  },
  {
   "attachments": {},
   "cell_type": "markdown",
   "metadata": {},
   "source": [
    "# Personal Data"
   ]
  },
  {
   "cell_type": "code",
   "execution_count": null,
   "metadata": {},
   "outputs": [],
   "source": [
    "# Set your student number\n",
    "student_number = ''\n",
    "first_name = ''\n",
    "last_name = ''"
   ]
  },
  {
   "cell_type": "code",
   "execution_count": null,
   "metadata": {},
   "outputs": [],
   "source": [
    "!pip install gym[toy_text]\n",
    "\n",
    "import gym \n",
    "import numpy as np\n",
    "from IPython.display import clear_output\n",
    "import matplotlib.pyplot as plt\n",
    "import os\n",
    "from tqdm import trange\n",
    "os.environ[\"SDL_VIDEODRIVER\"] = \"dummy\"\n",
    "clear_output() # You can use this method to clear your cell's output. "
   ]
  },
  {
   "attachments": {},
   "cell_type": "markdown",
   "metadata": {},
   "source": [
    "# Q1: Q-Learning (100 Points)"
   ]
  },
  {
   "attachments": {},
   "cell_type": "markdown",
   "metadata": {},
   "source": [
    "<font size=4>\n",
    "Author: Mohammad Moshtaghi\n",
    "<br/>\n",
    "<font color=red>\n",
    "Please run all the cells.\n",
    "</font>\n",
    "</font>\n",
    "<br/>\n",
    "</div>"
   ]
  },
  {
   "attachments": {},
   "cell_type": "markdown",
   "metadata": {},
   "source": [
    "# 1. Cliff Walking (70 pts)"
   ]
  },
  {
   "attachments": {},
   "cell_type": "markdown",
   "metadata": {},
   "source": [
    "In this section we are going to implement different Temporal Difference algorithms and compare their results. We start with a simple problem called **Cliff Walking**. You may have seen this game in your lecture slides and here we are going to train an RL Agent to play this game optimally.\n",
    "\n",
    "First, lets get familiar with game's environment."
   ]
  },
  {
   "attachments": {},
   "cell_type": "markdown",
   "metadata": {},
   "source": [
    "## 1-1. Environment (10 pts)"
   ]
  },
  {
   "attachments": {},
   "cell_type": "markdown",
   "metadata": {},
   "source": [
    "Lets declare our environment and see some of its hyperparameters."
   ]
  },
  {
   "cell_type": "code",
   "execution_count": null,
   "metadata": {},
   "outputs": [],
   "source": [
    "env = gym.make('CliffWalking-v0')\n",
    "spec = gym.spec('CliffWalking-v0')\n",
    "\n",
    "print(f\"Action Space: {env.action_space}\")\n",
    "print(f\"Observation Space: {env.observation_space}\")\n",
    "print(f\"Max Episode Steps: {spec.max_episode_steps}\")\n",
    "print(f\"Nondeterministic: {spec.nondeterministic}\")\n",
    "print(f\"Reward Range: {env.reward_range}\")\n",
    "print(f\"Reward Threshold: {spec.reward_threshold}\\n\")"
   ]
  },
  {
   "cell_type": "code",
   "execution_count": null,
   "metadata": {},
   "outputs": [],
   "source": [
    "Actions =  {0: 'UP', \n",
    "            1: 'RIGHT',\n",
    "            2: 'DOWN',\n",
    "            3: 'LEFT'}"
   ]
  },
  {
   "attachments": {},
   "cell_type": "markdown",
   "metadata": {},
   "source": [
    "You can use **_visualize_** function to draw your state."
   ]
  },
  {
   "cell_type": "code",
   "execution_count": null,
   "metadata": {},
   "outputs": [],
   "source": [
    "def visualize(env, action=None, reward=None):\n",
    "    env_screen = env.render(mode = 'rgb_array')\n",
    "    plt.imshow(env_screen)\n",
    "    plt.axis('off');\n",
    "    title = ''\n",
    "    if action:\n",
    "        title += f'Action: {Actions[action]}'\n",
    "    if reward:\n",
    "        title += f'Reward: {reward}'\n",
    "    \n",
    "    plt.title(title)\n",
    "    plt.show()"
   ]
  },
  {
   "attachments": {},
   "cell_type": "markdown",
   "metadata": {},
   "source": [
    "Test `visualize` function with a random action. First, using `env.reset` function, we reset our environment so that our agent returns to the starting point. for moving your agent, use `env.step` function. it returns four values:\n",
    "\n",
    "1. next_state\n",
    "2. reward\n",
    "3. done\n",
    "4. some info (Honestly, it doesn't matter)\n",
    "\n",
    "You may need this functions later :)\n",
    "\n"
   ]
  },
  {
   "cell_type": "code",
   "execution_count": null,
   "metadata": {},
   "outputs": [],
   "source": [
    "env.reset() # You can use this function to reset your environment.\n",
    "######################## YOUR CODE HERE ########################\n",
    "\n",
    "######################## END YOUR CODE #########################"
   ]
  },
  {
   "attachments": {},
   "cell_type": "markdown",
   "metadata": {},
   "source": [
    "## 1-2. Agent"
   ]
  },
  {
   "cell_type": "markdown",
   "metadata": {},
   "source": [
    "Please read the class below. You must inherite this class in the following sections and implement different RL algorithms."
   ]
  },
  {
   "cell_type": "code",
   "execution_count": null,
   "metadata": {},
   "outputs": [],
   "source": [
    "class Agent:\n",
    "\n",
    "    def __init__(self, env, noise):\n",
    "        self.q_values = []\n",
    "        self.policy = {}\n",
    "        self.env = env\n",
    "        self.noise = noise\n",
    "        ######################## YOUR CODE HERE ########################\n",
    "        # Declare any variables you need.\n",
    "        ######################## END YOUR CODE #########################\n",
    "\n",
    "    def learn(self, num_episodes, alpha, gamma, epsilon):\n",
    "        \"\"\"\n",
    "        Implement your Reinforcement Learning algorithm and train your agent in this function. \n",
    "        At the end, you must fill the q_values array.\n",
    "\n",
    "        Inputs:\n",
    "            - alpha: Learning rate\n",
    "            - gamma: Discount factor\n",
    "            - epsilon: The probability that the agent will act randomly instead of greedy in sampling.\n",
    "        \"\"\"\n",
    "\n",
    "        raise NotImplementedError()\n",
    "    \n",
    "    def create_policy(self):\n",
    "        \"\"\"\n",
    "        Create your policy in this function after your agent learns the q_values.\n",
    "        \"\"\"\n",
    "        ######################## YOUR CODE HERE ########################\n",
    "\n",
    "        ######################## END YOUR CODE #########################\n",
    "        pass\n",
    "        \n",
    "    def act(self):\n",
    "        \"\"\"\n",
    "        Move your agent one step according to your policy.\n",
    "        \"\"\"\n",
    "        ######################## YOUR CODE HERE ########################\n",
    "\n",
    "        ######################## END YOUR CODE #########################\n",
    "        pass\n",
    "\n",
    "    def evaluate(self, num_episodes):\n",
    "        \"\"\"\n",
    "        Sample num_episodes episodes from your agent that acts according to your policy.\n",
    "        Then return the average rewards it gets.\n",
    "\n",
    "        Inputs:\n",
    "            - num_episodes: Number of episodes for sampling.\n",
    "        \"\"\"\n",
    "        ######################## YOUR CODE HERE ########################\n",
    "\n",
    "        ######################## END YOUR CODE #########################\n",
    "        pass\n"
   ]
  },
  {
   "attachments": {},
   "cell_type": "markdown",
   "metadata": {},
   "source": [
    "## 1-3. Q-Learning (15 pts)"
   ]
  },
  {
   "attachments": {},
   "cell_type": "markdown",
   "metadata": {},
   "source": [
    "In this section, you must use **_Q-Learning_** algorithm to train your agent. Note that the action-value function Q(s,a) is updated iteratively as follows:\n",
    "\n",
    "$$ Q(s,a) \\leftarrow Q(s,a) + \\alpha \\left( r + \\gamma \\max_{a'} Q(s',a') - Q(s,a) \\right) $$\n",
    "\n",
    "where ‍‍‍‍‍`r` is the reward received after taking action a in state `s`, `s'` is the new state, $\\gamma$ is the discount factor (a value between 0 and 1 that determines the importance of future rewards), and $\\alpha$ is the learning rate (determines the step size at which the value function is updated)."
   ]
  },
  {
   "cell_type": "code",
   "execution_count": null,
   "metadata": {},
   "outputs": [],
   "source": [
    "class CliffWalkerQL(Agent):\n",
    "    \n",
    "    def learn(self, num_episodes, alpha, gamma, epsilon):\n",
    "        ######################## YOUR CODE HERE ########################\n",
    "\n",
    "        ######################## END YOUR CODE #########################\n",
    "        pass"
   ]
  },
  {
   "attachments": {},
   "cell_type": "markdown",
   "metadata": {},
   "source": [
    "## 1-4. Q-Learning Evaluation (10 pts)"
   ]
  },
  {
   "attachments": {},
   "cell_type": "markdown",
   "metadata": {},
   "source": [
    "Train your agent and then evaluate it and display the result. Using the `visualize` function, show the path your agent takes in one of the episodes."
   ]
  },
  {
   "cell_type": "code",
   "execution_count": null,
   "metadata": {},
   "outputs": [],
   "source": [
    "cliff_walker_ql = CliffWalkerQL(env, 0)\n",
    "alpha = 0.8\n",
    "gamma = 0.95\n",
    "epsilon = 0.2\n",
    "episodes = 1000\n",
    "cliff_walker_ql.learn(episodes, alpha, gamma, epsilon)"
   ]
  },
  {
   "cell_type": "code",
   "execution_count": null,
   "metadata": {},
   "outputs": [],
   "source": [
    "######################## YOUR CODE HERE ########################\n",
    "\n",
    "######################## END YOUR CODE #########################"
   ]
  },
  {
   "attachments": {},
   "cell_type": "markdown",
   "metadata": {},
   "source": [
    "## 1-5. SARSA (15 pts)"
   ]
  },
  {
   "attachments": {},
   "cell_type": "markdown",
   "metadata": {},
   "source": [
    "This time, you should use the SARSA algorithm, which is slightly different from the Q-Learning in implementation. But the result may significantly differ, and you should explain this difference, if any. \n",
    "\n",
    "Note that the SARSA update rule can be represented as:\n",
    "\n",
    "$$Q(S_t,A_t) \\leftarrow Q(S_t,A_t) + \\alpha \\left( R_{t+1} + \\gamma Q(S_{t+1},A_{t+1}) - Q(S_t,A_t) \\right)$$\n",
    "\n",
    "\n",
    "Where $Q(S_t,A_t)$ is the current estimate of the expected return for taking action $A_t$ in state $S_t$, $\\alpha$ is the learning rate, $R_{t+1}$ is the reward received after taking action $A_t$ in state $S_t$, $\\gamma$ is the discount factor, and $Q(S_{t+1},A_{t+1})$ is the estimated return for taking action $A_{t+1}$ in the next state $S_{t+1}$."
   ]
  },
  {
   "cell_type": "code",
   "execution_count": null,
   "metadata": {},
   "outputs": [],
   "source": [
    "class CliffWalkerSARSA(Agent):\n",
    "    \n",
    "    def learn(self, num_episodes, alpha, gamma, epsilon):\n",
    "        ######################## YOUR CODE HERE ########################\n",
    "\n",
    "        ######################## END YOUR CODE #########################\n",
    "        pass"
   ]
  },
  {
   "attachments": {},
   "cell_type": "markdown",
   "metadata": {},
   "source": [
    "## 1-6. SARSA Evaluation (10 pts)"
   ]
  },
  {
   "attachments": {},
   "cell_type": "markdown",
   "metadata": {},
   "source": [
    "Train your agent and then evaluate it and display the result. Using the `visualize` function, show the path your agent takes in one of the episodes."
   ]
  },
  {
   "cell_type": "code",
   "execution_count": null,
   "metadata": {},
   "outputs": [],
   "source": [
    "cliff_walker_sarsa = CliffWalkerSARSA(env, 0)\n",
    "alpha = 0.1\n",
    "gamma = 0.9\n",
    "epsilon = 0.5\n",
    "episodes = 1000\n",
    "cliff_walker_sarsa.learn(episodes, alpha, gamma, epsilon)"
   ]
  },
  {
   "cell_type": "code",
   "execution_count": null,
   "metadata": {},
   "outputs": [],
   "source": [
    "######################## YOUR CODE HERE ########################\n",
    "\n",
    "######################## END YOUR CODE #########################"
   ]
  },
  {
   "attachments": {},
   "cell_type": "markdown",
   "metadata": {},
   "source": [
    "## 1-7. Increase Noises (10 pts)"
   ]
  },
  {
   "attachments": {},
   "cell_type": "markdown",
   "metadata": {},
   "source": [
    "Increase noise and see how your obtained policy changes. Do this for both above algorithms and repeat above steps."
   ]
  },
  {
   "cell_type": "code",
   "execution_count": null,
   "metadata": {},
   "outputs": [],
   "source": [
    "######################## YOUR CODE HERE ########################\n",
    "\n",
    "######################## END YOUR CODE #########################"
   ]
  },
  {
   "attachments": {},
   "cell_type": "markdown",
   "metadata": {},
   "source": [
    "# 2. Taxi Driver (30 pts)"
   ]
  },
  {
   "attachments": {},
   "cell_type": "markdown",
   "metadata": {},
   "source": [
    "The next game that we want to implement is **Taxi Driver**. "
   ]
  },
  {
   "attachments": {},
   "cell_type": "markdown",
   "metadata": {},
   "source": [
    "## 2-1. Environment"
   ]
  },
  {
   "cell_type": "code",
   "execution_count": null,
   "metadata": {},
   "outputs": [],
   "source": [
    "env = gym.make('Taxi-v3')\n",
    "spec = gym.spec('Taxi-v3')\n",
    "\n",
    "print(f\"Action Space: {env.action_space}\")\n",
    "print(f\"Observation Space: {env.observation_space}\")\n",
    "print(f\"Max Episode Steps: {spec.max_episode_steps}\")\n",
    "print(f\"Nondeterministic: {spec.nondeterministic}\")\n",
    "print(f\"Reward Range: {env.reward_range}\")\n",
    "print(f\"Reward Threshold: {spec.reward_threshold}\\n\")"
   ]
  },
  {
   "cell_type": "code",
   "execution_count": null,
   "metadata": {},
   "outputs": [],
   "source": [
    "Actions =  {0: 'DOWN', \n",
    "            1: 'UP',\n",
    "            2: 'RIGHT',\n",
    "            3: 'LEFT',\n",
    "            4: 'Pickup passenger',\n",
    "            5: 'Drop off passenger'}"
   ]
  },
  {
   "attachments": {},
   "cell_type": "markdown",
   "metadata": {},
   "source": [
    "You can read more about the game and its observation space in this [link](https://gymnasium.farama.org/environments/toy_text/taxi/#observation-space).\n",
    "\n"
   ]
  },
  {
   "attachments": {},
   "cell_type": "markdown",
   "metadata": {},
   "source": [
    "## 2-2. Q-Learning (5 pts)"
   ]
  },
  {
   "attachments": {},
   "cell_type": "markdown",
   "metadata": {},
   "source": [
    "Implement Q-Learning algorithm for this problem. (Of course, you can use the code you implemented in the previous section and just enjoy the result (: )"
   ]
  },
  {
   "cell_type": "code",
   "execution_count": null,
   "metadata": {},
   "outputs": [],
   "source": [
    "class TaxiQL(Agent):\n",
    "    def learn(self, num_episodes, alpha, gamma, epsilon):\n",
    "        ######################## YOUR CODE HERE ########################\n",
    "\n",
    "        ######################## END YOUR CODE #########################\n",
    "        pass"
   ]
  },
  {
   "attachments": {},
   "cell_type": "markdown",
   "metadata": {},
   "source": [
    "## 2-3. Q-Learning Evaluation (5 pts) "
   ]
  },
  {
   "attachments": {},
   "cell_type": "markdown",
   "metadata": {},
   "source": [
    "Train your agent two times, once with 1000 episodes and once with 10000 episodes. Then evaluate it and display the result. Using the `visualize` function, show the path your agent takes in one of the episodes."
   ]
  },
  {
   "cell_type": "code",
   "execution_count": null,
   "metadata": {},
   "outputs": [],
   "source": [
    "taxi_ql = TaxiQL(env, 0)\n",
    "alpha = 0\n",
    "gamma = 0\n",
    "epsilon = 0\n",
    "episodes = 1000\n",
    "taxi_ql.learn(episodes, alpha, gamma, epsilon)"
   ]
  },
  {
   "cell_type": "code",
   "execution_count": null,
   "metadata": {},
   "outputs": [],
   "source": [
    "######################## YOUR CODE HERE ########################\n",
    "\n",
    "######################## END YOUR CODE #########################"
   ]
  },
  {
   "cell_type": "code",
   "execution_count": null,
   "metadata": {},
   "outputs": [],
   "source": [
    "taxi_ql = TaxiQL(env, 0)\n",
    "alpha = 0\n",
    "gamma = 0\n",
    "epsilon = 0\n",
    "episodes = 10000\n",
    "taxi_ql.learn(episodes, alpha, gamma, epsilon)"
   ]
  },
  {
   "cell_type": "code",
   "execution_count": null,
   "metadata": {},
   "outputs": [],
   "source": [
    "######################## YOUR CODE HERE ########################\n",
    "\n",
    "######################## END YOUR CODE #########################"
   ]
  },
  {
   "attachments": {},
   "cell_type": "markdown",
   "metadata": {},
   "source": [
    "## 2-4. TD(2) (15 pts)"
   ]
  },
  {
   "attachments": {},
   "cell_type": "markdown",
   "metadata": {},
   "source": [
    "In this section, you have to implement the Taxi problem using TD(2) algorithm. The difference between this method and the previous methods is in the number of movements that we look from the future.\n",
    "\n",
    "For example, the SARSA TD(2) update rule can be represented as:\n",
    "\n",
    "$$Q(S_t,A_t) \\leftarrow Q(S_t,A_t) + \\alpha \\left( R_{t+1} + \\gamma Q(S_{t+1},A_{t+1}) + \\gamma^2 Q(s_{t+2},A_{t+2}) - Q(S_t,A_t) \\right)$$\n",
    "\n",
    "\n",
    "Where $Q(S_t,A_t)$ is the current estimate of the expected return for taking action $A_t$ in state $S_t$, $\\alpha$ is the learning rate, $R_{t+1}$ is the reward received after taking action $A_t$ in state $S_t$, $\\gamma$ is the discount factor, and $Q(S_{t+1},A_{t+1})$ is the estimated return for taking action $A_{t+1}$ in the next state $S_{t+1}$.\n",
    "\n",
    "You can see [this video](https://youtu.be/AJiG3ykOxmY) for more details about TD methods."
   ]
  },
  {
   "cell_type": "code",
   "execution_count": null,
   "metadata": {},
   "outputs": [],
   "source": [
    "class TaxiTD2(Agent):\n",
    "    \n",
    "    def learn(self, num_episodes, alpha, gamma, epsilon):\n",
    "        ######################## YOUR CODE HERE ########################\n",
    "\n",
    "        ######################## END YOUR CODE #########################\n",
    "        pass"
   ]
  },
  {
   "attachments": {},
   "cell_type": "markdown",
   "metadata": {},
   "source": [
    "## 2-5. TD(2) Evaluation (5 pts)"
   ]
  },
  {
   "cell_type": "code",
   "execution_count": null,
   "metadata": {},
   "outputs": [],
   "source": [
    "taxi_td2 = TaxiTD2(env, 0)\n",
    "alpha = 0\n",
    "gamma = 0\n",
    "epsilon = 0\n",
    "episodes = 1000\n",
    "taxi_td2.learn(episodes, alpha, gamma, epsilon)"
   ]
  },
  {
   "cell_type": "code",
   "execution_count": null,
   "metadata": {},
   "outputs": [],
   "source": [
    "######################## YOUR CODE HERE ########################\n",
    "\n",
    "######################## END YOUR CODE #########################"
   ]
  },
  {
   "attachments": {},
   "cell_type": "markdown",
   "metadata": {},
   "source": [
    "You can see that the TD(2) method can reach an acceptable policy faster. Try to explain why."
   ]
  }
 ],
 "metadata": {
  "kernelspec": {
   "display_name": "base",
   "language": "python",
   "name": "python3"
  },
  "language_info": {
   "codemirror_mode": {
    "name": "ipython",
    "version": 3
   },
   "file_extension": ".py",
   "mimetype": "text/x-python",
   "name": "python",
   "nbconvert_exporter": "python",
   "pygments_lexer": "ipython3",
   "version": "3.9.13"
  },
  "orig_nbformat": 4,
  "vscode": {
   "interpreter": {
    "hash": "026f2bef8fb7be59296f2f39e2043bb013bc567dc5026fb77125b1034979614d"
   }
  }
 },
 "nbformat": 4,
 "nbformat_minor": 2
}
