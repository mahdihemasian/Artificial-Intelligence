{
 "cells": [
  {
   "cell_type": "markdown",
   "metadata": {},
   "source": [
    "<img src='http://www-scf.usc.edu/~ghasemig/images/sharif.png' alt=\"SUT logo\" width=300 height=300 align=left class=\"saturate\" >\n",
    "\n",
    "<br>\n",
    "<font>\n",
    "<div dir=ltr align=center>\n",
    "<font color=0F5298 size=7>\n",
    "    Artificial Intelligence <br>\n",
    "<font color=2565AE size=5>\n",
    "    Computer Engineering Department <br>\n",
    "    Spring 2023<br>\n",
    "<font color=3C99D size=5>\n",
    "    Practical Assignment 2 - Adversarial Search <br>\n",
    "<font color=696880 size=4>\n",
    "    Amirmohammad Isazadeh\n",
    "\n",
    "____"
   ]
  },
  {
   "cell_type": "markdown",
   "metadata": {},
   "source": [
    "# Personal Data"
   ]
  },
  {
   "cell_type": "code",
   "execution_count": 1,
   "metadata": {
    "collectable": true,
    "execution": {
     "iopub.execute_input": "2021-10-01T16:01:36.762477Z",
     "iopub.status.busy": "2021-10-01T16:01:36.762155Z",
     "iopub.status.idle": "2021-10-01T16:01:36.764025Z",
     "shell.execute_reply": "2021-10-01T16:01:36.763754Z"
    }
   },
   "outputs": [],
   "source": [
    "# Set your student number\n",
    "student_number = '98101458'\n",
    "Name = 'Mahdi'\n",
    "Last_Name = 'Hemasian'"
   ]
  },
  {
   "attachments": {},
   "cell_type": "markdown",
   "metadata": {},
   "source": [
    "# Rules"
   ]
  },
  {
   "attachments": {},
   "cell_type": "markdown",
   "metadata": {},
   "source": [
    "- You should upload just your Player.py file."
   ]
  },
  {
   "cell_type": "markdown",
   "metadata": {},
   "source": [
    "## Libraries"
   ]
  },
  {
   "cell_type": "code",
   "execution_count": 2,
   "metadata": {},
   "outputs": [
    {
     "name": "stdout",
     "output_type": "stream",
     "text": [
      "pygame 2.3.0 (SDL 2.24.2, Python 3.11.2)\n",
      "Hello from the pygame community. https://www.pygame.org/contribute.html\n"
     ]
    }
   ],
   "source": [
    "import pygame"
   ]
  },
  {
   "attachments": {},
   "cell_type": "markdown",
   "metadata": {},
   "source": [
    "# Q2: Adversarial Search (100 Points)"
   ]
  },
  {
   "attachments": {},
   "cell_type": "markdown",
   "metadata": {},
   "source": [
    "<font size=4>\n",
    "Author: Amirmohammad Isazadeh\n",
    "<br/>\n",
    "<font color=red>\n",
    "Please run all the cells.\n",
    "</font>\n",
    "</font>\n",
    "<br/>\n",
    "</div>"
   ]
  },
  {
   "cell_type": "markdown",
   "metadata": {
    "collectable": true
   },
   "source": [
    "In this problem you must implement a minimax agent to play a game known as Pentago."
   ]
  },
  {
   "cell_type": "markdown",
   "metadata": {},
   "source": [
    "You can see how to play pentago here:   \n",
    "https://www.youtube.com/watch?v=8DgUsC_X0QI\n",
    "\n",
    "extra rules:   \n",
    "If a player rotate a board and both players connect 5 marble, the other player wins."
   ]
  },
  {
   "cell_type": "markdown",
   "metadata": {},
   "source": [
    "The game has already been implemented for you. You should implement two things:  \n",
    "Implement the two minimax player logic in _Player.py_ . For the first player you must create the minimax tree until you reach a desired depth or a cutoff state. Then you must use an evaluation function to score the nodes and find the next best move. For the second player you must do all the above however when you are playing as max their is a probability that you will choose a random move instead of the best move.\n",
    "\n",
    "*** Note that, the result from the game is a part of your score and a small portion of your score is evaluated based on the quality of your code.\n",
    "\n",
    "We will use the commented function in main.py to grade your code. You can also test your code by playing with it or using a random player.   \n",
    "You can play the game with a random player by running the next cell. Upon running it a GUI of the game will open."
   ]
  },
  {
   "cell_type": "code",
   "execution_count": 2,
   "metadata": {
    "collectable": true
   },
   "outputs": [
    {
     "name": "stdout",
     "output_type": "stream",
     "text": [
      "The autoreload extension is already loaded. To reload it, use:\n",
      "  %reload_ext autoreload\n",
      "player1 is red. player2 is yellow.\n",
      "player1 goes first.\n",
      "player1 move:\n",
      "[[0, 0], 1, 'clockwise']\n",
      "player2 move:\n",
      "[[1, 2], 3, 'skip']\n",
      "player1 move:\n",
      "[[0, 0], 1, 'clockwise']\n",
      "player2 move:\n",
      "[[3, 3], 3, 'clockwise']\n",
      "player1 move:\n",
      "[[1, 2], 1, 'clockwise']\n",
      "player2 move:\n",
      "[[1, 1], 4, 'clockwise']\n",
      "player1 move:\n",
      "[[0, 0], 1, 'clockwise']\n",
      "player2 move:\n",
      "[[1, 2], 1, 'clockwise']\n",
      "player1 move:\n",
      "[[0, 3], 1, 'clockwise']\n",
      "player2 move:\n",
      "[[4, 0], 4, 'clockwise']\n",
      "player1 move:\n",
      "[[0, 4], 1, 'anticlockwise']\n",
      "PLAYER 1 WINS!\n"
     ]
    },
    {
     "data": {
      "text/plain": [
       "1"
      ]
     },
     "execution_count": 2,
     "metadata": {},
     "output_type": "execute_result"
    }
   ],
   "source": [
    "from Game import Game\n",
    "from Player import HumanPlayer, RandomPlayer, MiniMaxPlayer, MiniMaxProbPlayer\n",
    "%load_ext autoreload\n",
    "%autoreload 2\n",
    "\n",
    "\n",
    "# example 1:\n",
    "#player1 = RandomPlayer(1)\n",
    "player2 = RandomPlayer(2)\n",
    "\n",
    "# example 2:\n",
    "player1 = MiniMaxPlayer(1, depth=2)\n",
    "# player2 = MiniMaxProbPlayer(2, depth=5)\n",
    "\n",
    "game = Game(player1, player2)\n",
    "game.start_game()"
   ]
  },
  {
   "cell_type": "markdown",
   "metadata": {},
   "source": [
    "**Complete  the play function of MiniMaxPlayer and MiniMaxProbPlayer in _player.py_ and then run the following cells to test your implementation.**  "
   ]
  },
  {
   "cell_type": "code",
   "execution_count": 3,
   "metadata": {},
   "outputs": [
    {
     "name": "stdout",
     "output_type": "stream",
     "text": [
      "player1 is red. player2 is yellow.\n",
      "player2 goes first.\n",
      "player2 move:\n",
      "[[0, 5], 3, 'anticlockwise']\n",
      "player1 move:\n",
      "[[0, 0], 1, 'clockwise']\n",
      "player2 move:\n",
      "[[0, 3], 4, 'anticlockwise']\n",
      "player1 move:\n",
      "[[0, 4], 1, 'clockwise']\n",
      "player2 move:\n",
      "[[5, 2], 4, 'anticlockwise']\n",
      "player1 move:\n",
      "[[0, 0], 1, 'clockwise']\n",
      "player2 move:\n",
      "[[2, 3], 3, 'clockwise']\n",
      "player1 move:\n",
      "[[1, 1], 1, 'clockwise']\n",
      "player2 move:\n",
      "[[2, 5], 2, 'skip']\n",
      "player1 move:\n",
      "[[1, 4], 1, 'clockwise']\n",
      "player2 move:\n",
      "[[5, 2], 2, 'skip']\n",
      "player1 move:\n",
      "[[2, 4], 1, 'clockwise']\n",
      "player2 move:\n",
      "[[4, 3], 4, 'skip']\n",
      "player1 move:\n",
      "[[1, 2], 2, 'clockwise']\n",
      "PLAYER 1 WINS!\n",
      "player1 is red. player2 is yellow.\n",
      "player1 goes first.\n",
      "player1 move:\n",
      "[[0, 0], 1, 'clockwise']\n",
      "player2 move:\n",
      "[[1, 2], 2, 'skip']\n",
      "player1 move:\n",
      "[[0, 0], 1, 'clockwise']\n",
      "player2 move:\n",
      "[[5, 2], 2, 'skip']\n",
      "player1 move:\n",
      "[[1, 2], 1, 'clockwise']\n",
      "player2 move:\n",
      "[[1, 3], 4, 'anticlockwise']\n",
      "player1 move:\n",
      "[[0, 0], 2, 'clockwise']\n",
      "player2 move:\n",
      "[[4, 0], 4, 'skip']\n",
      "player1 move:\n",
      "[[1, 1], 1, 'clockwise']\n",
      "player2 move:\n",
      "[[2, 4], 1, 'skip']\n",
      "player1 move:\n",
      "[[1, 2], 3, 'clockwise']\n",
      "player2 move:\n",
      "[[4, 3], 1, 'clockwise']\n",
      "player1 move:\n",
      "[[0, 5], 2, 'anticlockwise']\n",
      "player2 move:\n",
      "[[5, 1], 4, 'clockwise']\n",
      "player1 move:\n",
      "[[0, 4], 3, 'clockwise']\n",
      "PLAYER 1 WINS!\n",
      "player1 is red. player2 is yellow.\n",
      "player2 goes first.\n",
      "player2 move:\n",
      "[[4, 1], 4, 'clockwise']\n",
      "player1 move:\n",
      "[[0, 0], 1, 'clockwise']\n",
      "player2 move:\n",
      "[[1, 4], 3, 'anticlockwise']\n",
      "player1 move:\n",
      "[[0, 0], 1, 'clockwise']\n",
      "player2 move:\n",
      "[[1, 0], 1, 'skip']\n",
      "player1 move:\n"
     ]
    },
    {
     "ename": "KeyboardInterrupt",
     "evalue": "",
     "output_type": "error",
     "traceback": [
      "\u001b[1;31m---------------------------------------------------------------------------\u001b[0m",
      "\u001b[1;31mKeyboardInterrupt\u001b[0m                         Traceback (most recent call last)",
      "Cell \u001b[1;32mIn[3], line 24\u001b[0m\n\u001b[0;32m     21\u001b[0m     \u001b[39mprint\u001b[39m(\u001b[39mf\u001b[39m\u001b[39m'\u001b[39m\u001b[39mminimax prob player vs random player win=\u001b[39m\u001b[39m{\u001b[39;00mwin2\u001b[39m}\u001b[39;00m\u001b[39m, lose=\u001b[39m\u001b[39m{\u001b[39;00mlose2\u001b[39m}\u001b[39;00m\u001b[39m, draw=\u001b[39m\u001b[39m{\u001b[39;00mdraw2\u001b[39m}\u001b[39;00m\u001b[39m'\u001b[39m)\n\u001b[0;32m     22\u001b[0m     \u001b[39mprint\u001b[39m(\u001b[39mf\u001b[39m\u001b[39m'\u001b[39m\u001b[39mscore: \u001b[39m\u001b[39m{\u001b[39;00mwin1\u001b[39m \u001b[39m\u001b[39m+\u001b[39m\u001b[39m \u001b[39mwin2\u001b[39m}\u001b[39;00m\u001b[39m'\u001b[39m)\n\u001b[1;32m---> 24\u001b[0m mark()\n",
      "Cell \u001b[1;32mIn[3], line 18\u001b[0m, in \u001b[0;36mmark\u001b[1;34m()\u001b[0m\n\u001b[0;32m     16\u001b[0m player2 \u001b[39m=\u001b[39m RandomPlayer(\u001b[39m2\u001b[39m)\n\u001b[0;32m     17\u001b[0m player3 \u001b[39m=\u001b[39m MiniMaxProbPlayer(\u001b[39m1\u001b[39m, depth\u001b[39m=\u001b[39m\u001b[39m2\u001b[39m, prob_stochastic\u001b[39m=\u001b[39m\u001b[39m0.8\u001b[39m)\n\u001b[1;32m---> 18\u001b[0m win1, lose1, draw1 \u001b[39m=\u001b[39m get_game_result(player1, player2, \u001b[39m10\u001b[39;49m)\n\u001b[0;32m     19\u001b[0m win2, lose2, draw2 \u001b[39m=\u001b[39m get_game_result(player3, player2, \u001b[39m10\u001b[39m)\n\u001b[0;32m     20\u001b[0m \u001b[39mprint\u001b[39m(\u001b[39mf\u001b[39m\u001b[39m'\u001b[39m\u001b[39mminimax player vs random player win=\u001b[39m\u001b[39m{\u001b[39;00mwin1\u001b[39m}\u001b[39;00m\u001b[39m, lose=\u001b[39m\u001b[39m{\u001b[39;00mlose1\u001b[39m}\u001b[39;00m\u001b[39m, draw=\u001b[39m\u001b[39m{\u001b[39;00mdraw1\u001b[39m}\u001b[39;00m\u001b[39m'\u001b[39m)\n",
      "Cell \u001b[1;32mIn[3], line 5\u001b[0m, in \u001b[0;36mget_game_result\u001b[1;34m(player1, player2, num_game)\u001b[0m\n\u001b[0;32m      3\u001b[0m \u001b[39mfor\u001b[39;00m i \u001b[39min\u001b[39;00m \u001b[39mrange\u001b[39m(num_game):\n\u001b[0;32m      4\u001b[0m     game \u001b[39m=\u001b[39m Game(player1, player2, graphics\u001b[39m=\u001b[39m\u001b[39mTrue\u001b[39;00m)\n\u001b[1;32m----> 5\u001b[0m     result \u001b[39m=\u001b[39m game\u001b[39m.\u001b[39;49mstart_game()\n\u001b[0;32m      6\u001b[0m     \u001b[39mif\u001b[39;00m result \u001b[39m==\u001b[39m \u001b[39m1\u001b[39m:\n\u001b[0;32m      7\u001b[0m         win \u001b[39m+\u001b[39m\u001b[39m=\u001b[39m \u001b[39m1\u001b[39m\n",
      "File \u001b[1;32mc:\\Users\\Dear User\\Desktop\\AI\\HW2\\PQ2\\Game.py:60\u001b[0m, in \u001b[0;36mGame.start_game\u001b[1;34m(self)\u001b[0m\n\u001b[0;32m     58\u001b[0m \u001b[39mprint\u001b[39m(\u001b[39mf\u001b[39m\u001b[39m'\u001b[39m\u001b[39mplayer\u001b[39m\u001b[39m{\u001b[39;00mturn\u001b[39m \u001b[39m\u001b[39m+\u001b[39m\u001b[39m \u001b[39m\u001b[39m1\u001b[39m\u001b[39m}\u001b[39;00m\u001b[39m move:\u001b[39m\u001b[39m'\u001b[39m)\n\u001b[0;32m     59\u001b[0m \u001b[39mif\u001b[39;00m turn \u001b[39m==\u001b[39m \u001b[39m0\u001b[39m:\n\u001b[1;32m---> 60\u001b[0m     player_move \u001b[39m=\u001b[39m \u001b[39mself\u001b[39;49m\u001b[39m.\u001b[39;49mplayer1\u001b[39m.\u001b[39;49mplay(\u001b[39mself\u001b[39;49m\u001b[39m.\u001b[39;49mboard)\n\u001b[0;32m     61\u001b[0m     \u001b[39mprint\u001b[39m(player_move)\n\u001b[0;32m     62\u001b[0m     row \u001b[39m=\u001b[39m player_move[\u001b[39m0\u001b[39m][\u001b[39m0\u001b[39m]\n",
      "File \u001b[1;32mc:\\Users\\Dear User\\Desktop\\AI\\HW2\\PQ2\\Player.py:173\u001b[0m, in \u001b[0;36mMiniMaxPlayer.play\u001b[1;34m(self, board)\u001b[0m\n\u001b[0;32m    171\u001b[0m     new_utility \u001b[39m=\u001b[39m \u001b[39mself\u001b[39m\u001b[39m.\u001b[39mutility(copy_board)\n\u001b[0;32m    172\u001b[0m \u001b[39melse\u001b[39;00m:\n\u001b[1;32m--> 173\u001b[0m     new_utility \u001b[39m=\u001b[39m \u001b[39mself\u001b[39;49m\u001b[39m.\u001b[39;49mmin_player(copy_board, \u001b[39mself\u001b[39;49m\u001b[39m.\u001b[39;49mdepth\u001b[39m-\u001b[39;49m\u001b[39m1\u001b[39;49m, alpha, beta)\n\u001b[0;32m    174\u001b[0m \u001b[39mif\u001b[39;00m(new_utility \u001b[39m>\u001b[39m utility):\n\u001b[0;32m    175\u001b[0m     utility \u001b[39m=\u001b[39m new_utility\n",
      "File \u001b[1;32mc:\\Users\\Dear User\\Desktop\\AI\\HW2\\PQ2\\Player.py:138\u001b[0m, in \u001b[0;36mMiniMaxPlayer.min_player\u001b[1;34m(self, board, depth, alpha, beta)\u001b[0m\n\u001b[0;32m    136\u001b[0m     new_utility \u001b[39m=\u001b[39m \u001b[39mself\u001b[39m\u001b[39m.\u001b[39mmax_player(copy_board, depth\u001b[39m-\u001b[39m\u001b[39m1\u001b[39m, alpha, beta)\n\u001b[0;32m    137\u001b[0m \u001b[39melse\u001b[39;00m:\n\u001b[1;32m--> 138\u001b[0m     new_utility \u001b[39m=\u001b[39m \u001b[39mself\u001b[39;49m\u001b[39m.\u001b[39;49mutility(copy_board)\n\u001b[0;32m    140\u001b[0m \u001b[39mif\u001b[39;00m(new_utility \u001b[39m<\u001b[39m utility):\n\u001b[0;32m    141\u001b[0m     utility \u001b[39m=\u001b[39m new_utility\n",
      "File \u001b[1;32mc:\\Users\\Dear User\\Desktop\\AI\\HW2\\PQ2\\Player.py:83\u001b[0m, in \u001b[0;36mMiniMaxPlayer.utility\u001b[1;34m(self, board)\u001b[0m\n\u001b[0;32m     80\u001b[0m \u001b[39mdef\u001b[39;00m \u001b[39mutility\u001b[39m(\u001b[39mself\u001b[39m, board):\n\u001b[0;32m     81\u001b[0m     \u001b[39m#return random.randint(-1000,1000)\u001b[39;00m\n\u001b[0;32m     82\u001b[0m     piece \u001b[39m=\u001b[39m \u001b[39mself\u001b[39m\u001b[39m.\u001b[39mpiece\n\u001b[1;32m---> 83\u001b[0m     vertical_score_piece \u001b[39m=\u001b[39m \u001b[39mself\u001b[39m\u001b[39m.\u001b[39mvert_score(board, piece, \u001b[39m4\u001b[39m)\u001b[39m*\u001b[39m\u001b[39m1000\u001b[39m \u001b[39m+\u001b[39m \u001b[39mself\u001b[39;49m\u001b[39m.\u001b[39;49mvert_score(board, piece, \u001b[39m3\u001b[39;49m)\u001b[39m*\u001b[39m\u001b[39m100\u001b[39m \n\u001b[0;32m     84\u001b[0m     horizental_score_piece \u001b[39m=\u001b[39m \u001b[39mself\u001b[39m\u001b[39m.\u001b[39mhoriz_score(board, piece, \u001b[39m4\u001b[39m)\u001b[39m*\u001b[39m\u001b[39m1000\u001b[39m\u001b[39m+\u001b[39m\u001b[39mself\u001b[39m\u001b[39m.\u001b[39mhoriz_score(board, piece, \u001b[39m3\u001b[39m)\u001b[39m*\u001b[39m\u001b[39m100\u001b[39m \n\u001b[0;32m     85\u001b[0m     diagonal_score_piece \u001b[39m=\u001b[39m \u001b[39mself\u001b[39m\u001b[39m.\u001b[39mdiag_score(board, piece, \u001b[39m4\u001b[39m)\u001b[39m*\u001b[39m\u001b[39m1000\u001b[39m \u001b[39m+\u001b[39m \u001b[39mself\u001b[39m\u001b[39m.\u001b[39mdiag_score(board, piece, \u001b[39m3\u001b[39m)\u001b[39m*\u001b[39m\u001b[39m100\u001b[39m \n",
      "File \u001b[1;32mc:\\Users\\Dear User\\Desktop\\AI\\HW2\\PQ2\\Player.py:51\u001b[0m, in \u001b[0;36mMiniMaxPlayer.vert_score\u001b[1;34m(self, board, piece, n)\u001b[0m\n\u001b[0;32m     49\u001b[0m \u001b[39mfor\u001b[39;00m c \u001b[39min\u001b[39;00m \u001b[39mrange\u001b[39m(COLS):\n\u001b[0;32m     50\u001b[0m     \u001b[39mfor\u001b[39;00m r \u001b[39min\u001b[39;00m \u001b[39mrange\u001b[39m(ROWS \u001b[39m-\u001b[39m n \u001b[39m+\u001b[39m \u001b[39m1\u001b[39m):\n\u001b[1;32m---> 51\u001b[0m         \u001b[39mif\u001b[39;00m np\u001b[39m.\u001b[39;49marray_equal(np\u001b[39m.\u001b[39;49marray(board[r:r\u001b[39m+\u001b[39;49mn,c])\u001b[39m.\u001b[39;49mreshape(\u001b[39m-\u001b[39;49m\u001b[39m1\u001b[39;49m),np\u001b[39m.\u001b[39;49marray([piece \u001b[39mfor\u001b[39;49;00m _ \u001b[39min\u001b[39;49;00m \u001b[39mrange\u001b[39;49m(n)])\u001b[39m.\u001b[39;49mreshape(\u001b[39m-\u001b[39;49m\u001b[39m1\u001b[39;49m)):\n\u001b[0;32m     52\u001b[0m             count \u001b[39m+\u001b[39m\u001b[39m=\u001b[39m \u001b[39m2\u001b[39m\n\u001b[0;32m     53\u001b[0m         \u001b[39melif\u001b[39;00m np\u001b[39m.\u001b[39marray_equal(np\u001b[39m.\u001b[39marray(board[r:r\u001b[39m+\u001b[39mn,c])\u001b[39m.\u001b[39mreshape(\u001b[39m-\u001b[39m\u001b[39m1\u001b[39m),np\u001b[39m.\u001b[39marray([op_piece \u001b[39mfor\u001b[39;00m _ \u001b[39min\u001b[39;00m \u001b[39mrange\u001b[39m(n)])\u001b[39m.\u001b[39mreshape(\u001b[39m-\u001b[39m\u001b[39m1\u001b[39m)):\n",
      "File \u001b[1;32m<__array_function__ internals>:200\u001b[0m, in \u001b[0;36marray_equal\u001b[1;34m(*args, **kwargs)\u001b[0m\n",
      "File \u001b[1;32mc:\\Users\\Dear User\\AppData\\Local\\Programs\\Python\\Python311\\Lib\\site-packages\\numpy\\core\\numeric.py:2468\u001b[0m, in \u001b[0;36marray_equal\u001b[1;34m(a1, a2, equal_nan)\u001b[0m\n\u001b[0;32m   2466\u001b[0m     \u001b[39mreturn\u001b[39;00m \u001b[39mFalse\u001b[39;00m\n\u001b[0;32m   2467\u001b[0m \u001b[39mif\u001b[39;00m \u001b[39mnot\u001b[39;00m equal_nan:\n\u001b[1;32m-> 2468\u001b[0m     \u001b[39mreturn\u001b[39;00m \u001b[39mbool\u001b[39m(asarray(a1 \u001b[39m==\u001b[39m a2)\u001b[39m.\u001b[39mall())\n\u001b[0;32m   2469\u001b[0m \u001b[39m# Handling NaN values if equal_nan is True\u001b[39;00m\n\u001b[0;32m   2470\u001b[0m a1nan, a2nan \u001b[39m=\u001b[39m isnan(a1), isnan(a2)\n",
      "\u001b[1;31mKeyboardInterrupt\u001b[0m: "
     ]
    }
   ],
   "source": [
    "def get_game_result(player1, player2, num_game):\n",
    "    win, lose, draw = 0, 0, 0\n",
    "    for i in range(num_game):\n",
    "        game = Game(player1, player2, graphics=True)\n",
    "        result = game.start_game()\n",
    "        if result == 1:\n",
    "            win += 1\n",
    "        elif result == 2:\n",
    "            lose += 1\n",
    "        else:\n",
    "            draw += 1\n",
    "    return win, lose, draw\n",
    "        \n",
    "def mark():\n",
    "    player1 = MiniMaxPlayer(1, depth=2)\n",
    "    player2 = RandomPlayer(2)\n",
    "    player3 = MiniMaxProbPlayer(1, depth=2, prob_stochastic=0.8)\n",
    "    win1, lose1, draw1 = get_game_result(player1, player2, 10)\n",
    "    win2, lose2, draw2 = get_game_result(player3, player2, 10)\n",
    "    print(f'minimax player vs random player win={win1}, lose={lose1}, draw={draw1}')\n",
    "    print(f'minimax prob player vs random player win={win2}, lose={lose2}, draw={draw2}')\n",
    "    print(f'score: {win1 + win2}')\n",
    "\n",
    "mark()"
   ]
  }
 ],
 "metadata": {
  "kernelspec": {
   "display_name": "Python 3",
   "language": "python",
   "name": "python3"
  },
  "language_info": {
   "codemirror_mode": {
    "name": "ipython",
    "version": 3
   },
   "file_extension": ".py",
   "mimetype": "text/x-python",
   "name": "python",
   "nbconvert_exporter": "python",
   "pygments_lexer": "ipython3",
   "version": "3.11.2"
  },
  "vscode": {
   "interpreter": {
    "hash": "f72c34bb2e2aa76acaec51e5a386e2497fab8a5e682a38cfc0469e5a4ec35b0f"
   }
  }
 },
 "nbformat": 4,
 "nbformat_minor": 4
}
